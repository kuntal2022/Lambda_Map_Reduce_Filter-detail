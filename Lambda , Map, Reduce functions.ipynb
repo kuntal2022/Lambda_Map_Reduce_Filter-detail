{
 "cells": [
  {
   "cell_type": "markdown",
   "id": "cb3ee7df",
   "metadata": {},
   "source": [
    "# Lambda , Map, Reduce, Filter functions\n",
    "\n",
    "Kuntal Chakraborty"
   ]
  },
  {
   "attachments": {
    "image.png": {
     "image/png": "[encoded data removed]"
    }
   },
   "cell_type": "markdown",
   "id": "eb94a5b4",
   "metadata": {},
   "source": [
    "# Lambda function\n",
    "#### Lambda also called one liner function or anonymous function\n",
    "\n",
    "\n",
    "![image.png](attachment:image.png)"
   ]
  },
  {
   "cell_type": "code",
   "execution_count": 11,
   "id": "458c8ca1",
   "metadata": {},
   "outputs": [
    {
     "name": "stdout",
     "output_type": "stream",
     "text": [
      "<class 'function'>\n"
     ]
    },
    {
     "data": {
      "text/plain": [
       "<function __main__.<lambda>(x, y)>"
      ]
     },
     "execution_count": 11,
     "metadata": {},
     "output_type": "execute_result"
    }
   ],
   "source": [
    "# how to create lambda function\n",
    "print(type(lambda x,y: x>y))\n",
    "\n",
    "(lambda x,y: x>y)"
   ]
  },
  {
   "cell_type": "code",
   "execution_count": 13,
   "id": "7014e5e2",
   "metadata": {},
   "outputs": [
    {
     "name": "stdout",
     "output_type": "stream",
     "text": [
      "The max number is::: 200\n"
     ]
    }
   ],
   "source": [
    "# checking max \n",
    "\n",
    "test1= lambda x, y: max(x,y)\n",
    "print(\"The max number is:::\", test1(100,200))"
   ]
  },
  {
   "cell_type": "code",
   "execution_count": 18,
   "id": "a71b8a9f",
   "metadata": {},
   "outputs": [
    {
     "data": {
      "text/plain": [
       "36.83"
      ]
     },
     "execution_count": 18,
     "metadata": {},
     "output_type": "execute_result"
    }
   ],
   "source": [
    "#°C = (°F − 32) x 5/9 \n",
    "\n",
    "f_to_c= lambda f: (f-32)*(5/9)\n",
    "round(f_to_c(98.3),2)"
   ]
  },
  {
   "cell_type": "code",
   "execution_count": 41,
   "id": "3b7f2e3d",
   "metadata": {},
   "outputs": [],
   "source": [
    "# example with if else\n",
    "\n",
    "test2= lambda x,y: y if x>y else 0 # if x > y then return 0\n",
    "test3= lambda x,y: y if x<y else 0 # if x < y then return 0 "
   ]
  },
  {
   "cell_type": "code",
   "execution_count": 42,
   "id": "1493704c",
   "metadata": {},
   "outputs": [
    {
     "name": "stdout",
     "output_type": "stream",
     "text": [
      "0\n",
      "[300, 200]\n"
     ]
    }
   ],
   "source": [
    "print(test2([100,300], [300,200]))\n",
    "print(test3([100,300], [300,200]))"
   ]
  },
  {
   "attachments": {
    "image.png": {
     "image/png": "[encoded data removed]"
    }
   },
   "cell_type": "markdown",
   "id": "736d01fa",
   "metadata": {},
   "source": [
    "# Map function\n",
    "\n",
    "Map function map one particular function to given itrable\n",
    "\n",
    "\n",
    "![image.png](attachment:image.png)\n",
    "\n",
    "###### It takes 1 function and n number of iterable \n",
    "\n"
   ]
  },
  {
   "cell_type": "markdown",
   "id": "a5f86040",
   "metadata": {},
   "source": [
    "#### Checking with 1 iterable "
   ]
  },
  {
   "cell_type": "code",
   "execution_count": 79,
   "id": "a487b9ef",
   "metadata": {},
   "outputs": [
    {
     "name": "stdout",
     "output_type": "stream",
     "text": [
      "<map object at 0x00000170F369B220>\n",
      "1\n",
      "4\n",
      "9\n",
      "16\n"
     ]
    }
   ],
   "source": [
    "# define the function of squre\n",
    "def sq(x):\n",
    "    return x**2\n",
    "\n",
    "\n",
    "# making the object with map function\n",
    "test_4=map(sq,[1,2,3,4]) # given one iterable\n",
    "\n",
    "# see the object \n",
    "print(test_4)\n",
    "\n",
    "# printing the \n",
    "for i in test_4:\n",
    "    print (i)"
   ]
  },
  {
   "cell_type": "markdown",
   "id": "dca5487d",
   "metadata": {},
   "source": [
    "#### Checking with 1+ iterable "
   ]
  },
  {
   "cell_type": "code",
   "execution_count": 78,
   "id": "66aee374",
   "metadata": {},
   "outputs": [
    {
     "name": "stdout",
     "output_type": "stream",
     "text": [
      "(1, 64, 100)\n",
      "(4, 81, 25)\n",
      "(9, 49, 121)\n"
     ]
    }
   ],
   "source": [
    "# define the function of squre\n",
    "def sq_1(x,y,z):\n",
    "    return x**2,y**2, z**2\n",
    "\n",
    "\n",
    "# making the object with map function\n",
    "test_5=map(sq_1,[1,2,3,4],[8,9,7], [10,5,11]) # given one iterable\n",
    "\n",
    "\n",
    "\n",
    "# printing the \n",
    "for i in test_5:\n",
    "    print(i)\n"
   ]
  },
  {
   "cell_type": "code",
   "execution_count": 88,
   "id": "96ac4c08",
   "metadata": {},
   "outputs": [
    {
     "data": {
      "text/plain": [
       "[1, 4, 9]"
      ]
     },
     "execution_count": 88,
     "metadata": {},
     "output_type": "execute_result"
    }
   ],
   "source": [
    "# lambda + map making squre function returning a lsit of the value\n",
    "\n",
    "list(map(lambda x: x**2 ,[1,2,3]))\n",
    "\n"
   ]
  },
  {
   "cell_type": "code",
   "execution_count": 26,
   "id": "7fc81ebc",
   "metadata": {},
   "outputs": [
    {
     "name": "stdout",
     "output_type": "stream",
     "text": [
      "[6, 17, 11, 199] ::::: Result with Def function\n",
      "\n",
      "[6, 17, 11, 199] :::::  Result with def + map function\n",
      "\n",
      "[6, 17, 11, 199] :::::  Result with map + lambda function\n"
     ]
    }
   ],
   "source": [
    "# addition with def function\n",
    "def addition_x(l1,l2):\n",
    "    addition=[]\n",
    "    for i, j in zip(l2,l1):\n",
    "        addition.append(i+j)\n",
    "    return addition\n",
    "print(addition_x(l1,l2), \"::::: Result with Def function\")\n",
    "print()\n",
    "\n",
    "# addition with map + def function\n",
    "\n",
    "l1=[1,10,3,100]\n",
    "l2=[5,7,8,99]\n",
    "def addition_y(x,y):\n",
    "    return x+y\n",
    "\n",
    "r1=list(map(addition_y, l1,l2))       \n",
    "print(r1,\":::::  Result with def + map function\")\n",
    "\n",
    "\n",
    "# one liner code map + lambda for the same \n",
    "\n",
    "r2=list(map(lambda x, y: x+y ,l1,l2))\n",
    "\n",
    "print()\n",
    "print(r2,\":::::  Result with map + lambda function\" )"
   ]
  },
  {
   "attachments": {
    "image.png": {
     "image/png": "[encoded data removed]"
    }
   },
   "cell_type": "markdown",
   "id": "b0d1b8de",
   "metadata": {},
   "source": [
    "# Reduce Fucction\n",
    "\n",
    "It will reduce the iterable to one value depends on function\n",
    "![image.png](attachment:image.png)\n",
    "\n",
    "#### Reduce function is embedded in the package functool\n",
    "\n"
   ]
  },
  {
   "cell_type": "code",
   "execution_count": 28,
   "id": "c832c717",
   "metadata": {},
   "outputs": [],
   "source": [
    "# import the reduce function from functools\n",
    "\n",
    "from functools import reduce"
   ]
  },
  {
   "cell_type": "markdown",
   "id": "889c8043",
   "metadata": {},
   "source": [
    "#### add all the number in one tuple\n",
    "\n",
    "\n"
   ]
  },
  {
   "cell_type": "code",
   "execution_count": 36,
   "id": "37c9c4ff",
   "metadata": {},
   "outputs": [
    {
     "data": {
      "text/plain": [
       "15"
      ]
     },
     "execution_count": 36,
     "metadata": {},
     "output_type": "execute_result"
    }
   ],
   "source": [
    "\"\"\"first x=1 and y=2 : in first step it will return a result i.e x+y=3 now in next step this result will \n",
    "become x and y will be 2 and the same will be on untill the last value reaches\"\"\"\n",
    "\n",
    "t1=(1,2,3,4,5)\n",
    "reduce(lambda x,y: x+y, t1)\n"
   ]
  },
  {
   "cell_type": "markdown",
   "id": "2e53f12b",
   "metadata": {},
   "source": [
    "#### Factorial:"
   ]
  },
  {
   "cell_type": "code",
   "execution_count": 33,
   "id": "b2fe830d",
   "metadata": {},
   "outputs": [
    {
     "data": {
      "text/plain": [
       "120"
      ]
     },
     "execution_count": 33,
     "metadata": {},
     "output_type": "execute_result"
    }
   ],
   "source": [
    "reduce(lambda x,y: x*y, t1)"
   ]
  },
  {
   "attachments": {
    "image.png": {
     "image/png": "[encoded data removed]"
    }
   },
   "cell_type": "markdown",
   "id": "f1dbd128",
   "metadata": {},
   "source": [
    "# Filter Function\n",
    "it takes one or none function and parmaters\n",
    "\n",
    "![image.png](attachment:image.png)\n",
    "\n",
    "\n",
    "\n",
    "I will filter from the iterable as per function and returns the expected value"
   ]
  },
  {
   "cell_type": "code",
   "execution_count": 44,
   "id": "7dca1691",
   "metadata": {},
   "outputs": [
    {
     "data": {
      "text/plain": [
       "[2, 4, 6, 8, 10, 12, 14, 16, 18]"
      ]
     },
     "execution_count": 44,
     "metadata": {},
     "output_type": "execute_result"
    }
   ],
   "source": [
    "# get the even number from a list\n",
    "l3=list(range(1,20))\n",
    "\n",
    "list(filter(lambda x:  x%2==0, l3))"
   ]
  },
  {
   "cell_type": "code",
   "execution_count": 45,
   "id": "e1755ce9",
   "metadata": {},
   "outputs": [
    {
     "data": {
      "text/plain": [
       "[1, 3, 5, 7, 9, 11, 13, 15, 17, 19]"
      ]
     },
     "execution_count": 45,
     "metadata": {},
     "output_type": "execute_result"
    }
   ],
   "source": [
    "# get the odd number from a list\n",
    "list(filter(lambda x:  x%2!=0, l3))"
   ]
  },
  {
   "cell_type": "code",
   "execution_count": 55,
   "id": "902fd367",
   "metadata": {},
   "outputs": [
    {
     "data": {
      "text/plain": [
       "['python', 'anaconda']"
      ]
     },
     "execution_count": 55,
     "metadata": {},
     "output_type": "execute_result"
    }
   ],
   "source": [
    "# filter the string has length less than or equal 8\n",
    "\n",
    "list(filter(lambda x: len(x)<=8, ['python', 'anaconda', 'it should not be rinted']))"
   ]
  },
  {
   "cell_type": "code",
   "execution_count": null,
   "id": "a8aec99c",
   "metadata": {},
   "outputs": [],
   "source": []
  }
 ],
 "metadata": {
  "kernelspec": {
   "display_name": "Python 3 (ipykernel)",
   "language": "python",
   "name": "python3"
  },
  "language_info": {
   "codemirror_mode": {
    "name": "ipython",
    "version": 3
   },
   "file_extension": ".py",
   "mimetype": "text/x-python",
   "name": "python",
   "nbconvert_exporter": "python",
   "pygments_lexer": "ipython3",
   "version": "3.9.13"
  }
 },
 "nbformat": 4,
 "nbformat_minor": 5
}
